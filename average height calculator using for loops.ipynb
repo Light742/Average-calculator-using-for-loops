{
 "cells": [
  {
   "cell_type": "code",
   "execution_count": 13,
   "id": "7e011154",
   "metadata": {
    "scrolled": true
   },
   "outputs": [
    {
     "name": "stdout",
     "output_type": "stream",
     "text": [
      "Type a list of students' height separated with a comma.156, 155, 147\n",
      "There are 3 different height entries.\n",
      "The sum of all height entries is 458\n",
      "The average height of all students listed is 153\n"
     ]
    }
   ],
   "source": [
    "student_heights = input(\"Type a list of students' height separated with a comma.\")\n",
    "heights = student_heights.split(\", \")\n",
    "for n in range(0, len(heights)):\n",
    "    heights[n] = int(heights[n])\n",
    "\n",
    "\n",
    "x = 0\n",
    "total = 0\n",
    "for i in heights:\n",
    "    x = x + 1\n",
    "    total += i \n",
    "print( f'There are {x} different height entries.')\n",
    "print(f'The sum of all height entries is {total}')\n",
    "average = int(round(total / x, 0))\n",
    "print(f'The average height of all students listed is {average}')"
   ]
  },
  {
   "cell_type": "code",
   "execution_count": null,
   "id": "fe858141",
   "metadata": {},
   "outputs": [],
   "source": []
  },
  {
   "cell_type": "code",
   "execution_count": null,
   "id": "4b45ddf4",
   "metadata": {},
   "outputs": [],
   "source": []
  }
 ],
 "metadata": {
  "kernelspec": {
   "display_name": "Python 3",
   "language": "python",
   "name": "python3"
  },
  "language_info": {
   "codemirror_mode": {
    "name": "ipython",
    "version": 3
   },
   "file_extension": ".py",
   "mimetype": "text/x-python",
   "name": "python",
   "nbconvert_exporter": "python",
   "pygments_lexer": "ipython3",
   "version": "3.8.8"
  }
 },
 "nbformat": 4,
 "nbformat_minor": 5
}
